{
 "cells": [
  {
   "cell_type": "code",
   "execution_count": 1,
   "id": "5a96df78",
   "metadata": {
    "scrolled": true
   },
   "outputs": [],
   "source": [
    "import numpy as np\n",
    "import pandas as pd\n",
    "import matplotlib.pyplot as plt\n",
    "\n",
    "# head size is in cubic-centimeters\n",
    "# brain weight is in grams"
   ]
  },
  {
   "cell_type": "code",
   "execution_count": 2,
   "id": "ef56d9f9",
   "metadata": {
    "scrolled": true
   },
   "outputs": [
    {
     "data": {
      "text/html": [
       "<div>\n",
       "<style scoped>\n",
       "    .dataframe tbody tr th:only-of-type {\n",
       "        vertical-align: middle;\n",
       "    }\n",
       "\n",
       "    .dataframe tbody tr th {\n",
       "        vertical-align: top;\n",
       "    }\n",
       "\n",
       "    .dataframe thead th {\n",
       "        text-align: right;\n",
       "    }\n",
       "</style>\n",
       "<table border=\"1\" class=\"dataframe\">\n",
       "  <thead>\n",
       "    <tr style=\"text-align: right;\">\n",
       "      <th></th>\n",
       "      <th>gender</th>\n",
       "      <th>age_range</th>\n",
       "      <th>head_size</th>\n",
       "      <th>brain_weight</th>\n",
       "    </tr>\n",
       "  </thead>\n",
       "  <tbody>\n",
       "    <tr>\n",
       "      <th>0</th>\n",
       "      <td>1</td>\n",
       "      <td>1</td>\n",
       "      <td>4512</td>\n",
       "      <td>1530</td>\n",
       "    </tr>\n",
       "    <tr>\n",
       "      <th>1</th>\n",
       "      <td>1</td>\n",
       "      <td>1</td>\n",
       "      <td>3738</td>\n",
       "      <td>1297</td>\n",
       "    </tr>\n",
       "    <tr>\n",
       "      <th>2</th>\n",
       "      <td>1</td>\n",
       "      <td>1</td>\n",
       "      <td>4261</td>\n",
       "      <td>1335</td>\n",
       "    </tr>\n",
       "    <tr>\n",
       "      <th>3</th>\n",
       "      <td>1</td>\n",
       "      <td>1</td>\n",
       "      <td>3777</td>\n",
       "      <td>1282</td>\n",
       "    </tr>\n",
       "    <tr>\n",
       "      <th>4</th>\n",
       "      <td>1</td>\n",
       "      <td>1</td>\n",
       "      <td>4177</td>\n",
       "      <td>1590</td>\n",
       "    </tr>\n",
       "    <tr>\n",
       "      <th>...</th>\n",
       "      <td>...</td>\n",
       "      <td>...</td>\n",
       "      <td>...</td>\n",
       "      <td>...</td>\n",
       "    </tr>\n",
       "    <tr>\n",
       "      <th>232</th>\n",
       "      <td>2</td>\n",
       "      <td>2</td>\n",
       "      <td>3214</td>\n",
       "      <td>1110</td>\n",
       "    </tr>\n",
       "    <tr>\n",
       "      <th>233</th>\n",
       "      <td>2</td>\n",
       "      <td>2</td>\n",
       "      <td>3394</td>\n",
       "      <td>1215</td>\n",
       "    </tr>\n",
       "    <tr>\n",
       "      <th>234</th>\n",
       "      <td>2</td>\n",
       "      <td>2</td>\n",
       "      <td>3233</td>\n",
       "      <td>1104</td>\n",
       "    </tr>\n",
       "    <tr>\n",
       "      <th>235</th>\n",
       "      <td>2</td>\n",
       "      <td>2</td>\n",
       "      <td>3352</td>\n",
       "      <td>1170</td>\n",
       "    </tr>\n",
       "    <tr>\n",
       "      <th>236</th>\n",
       "      <td>2</td>\n",
       "      <td>2</td>\n",
       "      <td>3391</td>\n",
       "      <td>1120</td>\n",
       "    </tr>\n",
       "  </tbody>\n",
       "</table>\n",
       "<p>237 rows × 4 columns</p>\n",
       "</div>"
      ],
      "text/plain": [
       "     gender  age_range  head_size  brain_weight\n",
       "0         1          1       4512          1530\n",
       "1         1          1       3738          1297\n",
       "2         1          1       4261          1335\n",
       "3         1          1       3777          1282\n",
       "4         1          1       4177          1590\n",
       "..      ...        ...        ...           ...\n",
       "232       2          2       3214          1110\n",
       "233       2          2       3394          1215\n",
       "234       2          2       3233          1104\n",
       "235       2          2       3352          1170\n",
       "236       2          2       3391          1120\n",
       "\n",
       "[237 rows x 4 columns]"
      ]
     },
     "execution_count": 2,
     "metadata": {},
     "output_type": "execute_result"
    }
   ],
   "source": [
    "df = pd.read_csv(\"data/head-brain-data.csv\")\n",
    "df"
   ]
  },
  {
   "cell_type": "code",
   "execution_count": 3,
   "id": "f989fd48",
   "metadata": {
    "scrolled": false
   },
   "outputs": [
    {
     "data": {
      "text/plain": [
       "gender          int64\n",
       "age_range       int64\n",
       "head_size       int64\n",
       "brain_weight    int64\n",
       "dtype: object"
      ]
     },
     "execution_count": 3,
     "metadata": {},
     "output_type": "execute_result"
    }
   ],
   "source": [
    "df.dtypes"
   ]
  },
  {
   "cell_type": "markdown",
   "id": "576dddec",
   "metadata": {},
   "source": [
    "### Storing head size and brains weight in h and b numpy arrays"
   ]
  },
  {
   "cell_type": "code",
   "execution_count": 4,
   "id": "00ccb585",
   "metadata": {
    "scrolled": true
   },
   "outputs": [],
   "source": [
    "h = df[\"head_size\"].values\n",
    "b = df[\"brain_weight\"].values"
   ]
  },
  {
   "cell_type": "code",
   "execution_count": 5,
   "id": "bc4511fb",
   "metadata": {
    "scrolled": true
   },
   "outputs": [
    {
     "name": "stdout",
     "output_type": "stream",
     "text": [
      "3633.9915611814345\n",
      "1282.873417721519\n"
     ]
    }
   ],
   "source": [
    "mean_h = np.mean(h)\n",
    "mean_b = np.mean(b)\n",
    "\n",
    "print(mean_h)\n",
    "print(mean_b)"
   ]
  },
  {
   "cell_type": "code",
   "execution_count": 6,
   "id": "72ea9f07",
   "metadata": {
    "scrolled": true
   },
   "outputs": [
    {
     "name": "stdout",
     "output_type": "stream",
     "text": [
      "237\n"
     ]
    }
   ],
   "source": [
    "SIZE = len(h)\n",
    "print(SIZE)"
   ]
  },
  {
   "cell_type": "markdown",
   "id": "91859c08",
   "metadata": {},
   "source": [
    "### Calculating the slope and intercept"
   ]
  },
  {
   "cell_type": "code",
   "execution_count": 7,
   "id": "0c6a9cf8",
   "metadata": {
    "scrolled": false
   },
   "outputs": [
    {
     "name": "stdout",
     "output_type": "stream",
     "text": [
      "Slope: 0.26342933948939945\n",
      "Intercept: 325.57342104944223\n"
     ]
    }
   ],
   "source": [
    "numerator, denominator = 0, 0\n",
    "for i in range(SIZE):\n",
    "    numerator += (h[i] - mean_h) * (b[i] - mean_b)\n",
    "    denominator += (h[i] - mean_h) ** 2\n",
    "\n",
    "slope = numerator / denominator\n",
    "\n",
    "# put x = mean_h and y = mean_b\n",
    "intercept = mean_b - slope * mean_h\n",
    "\n",
    "print(\"Slope:\", slope)\n",
    "print(\"Intercept:\", intercept)"
   ]
  },
  {
   "cell_type": "markdown",
   "id": "50a3d500",
   "metadata": {},
   "source": [
    "### Plotting line values and regression line"
   ]
  },
  {
   "cell_type": "code",
   "execution_count": 8,
   "id": "21066756",
   "metadata": {
    "scrolled": false
   },
   "outputs": [
    {
     "data": {
      "image/png": "[encoded data removed]",
      "text/plain": [
       "<Figure size 640x480 with 1 Axes>"
      ]
     },
     "metadata": {},
     "output_type": "display_data"
    }
   ],
   "source": [
    "min_h = np.min(h)\n",
    "max_h = np.max(h)\n",
    "\n",
    "# calculating line values x and y\n",
    "x = np.linspace(min_h, max_h)\n",
    "y = intercept + slope * x\n",
    "\n",
    "# plotting the regression line\n",
    "plt.plot(x, y, color=\"red\", label=\"Regression Line\")\n",
    "\n",
    "# plotting scattered points\n",
    "plt.scatter(h, b, color=\"dodgerblue\", label=\"Scatter Plot\")\n",
    "\n",
    "# labelling x-axis and y-axis\n",
    "plt.xlabel(\"Head Size (in cubic-centimeters)\")\n",
    "plt.ylabel(\"Brain Weight (in grams)\")\n",
    "\n",
    "plt.legend()\n",
    "\n",
    "plt.show()"
   ]
  },
  {
   "cell_type": "markdown",
   "id": "20e9738c",
   "metadata": {},
   "source": [
    "### Calculating the Coefficient of Determination (R-squared)\n",
    "$$\n",
    "R ^ 2 = 1 - \\frac{\\sum(y_i - \\hat y_i) ^ 2}{\\sum(y_i - \\overline y_i) ^ 2}\n",
    "$$"
   ]
  },
  {
   "cell_type": "code",
   "execution_count": 9,
   "id": "fda81d42",
   "metadata": {
    "scrolled": true
   },
   "outputs": [
    {
     "name": "stdout",
     "output_type": "stream",
     "text": [
      "0.6393117199570003\n"
     ]
    }
   ],
   "source": [
    "sum_squared_regression, total_sum_squares = 0, 0\n",
    "\n",
    "for i in range(SIZE):\n",
    "    b_predicted = intercept + slope * h[i]\n",
    "    sum_squared_regression += (b[i] - b_predicted) ** 2\n",
    "    total_sum_squares += (b[i] - mean_b) ** 2\n",
    "\n",
    "R2 = 1 - (sum_squared_regression / total_sum_squares)\n",
    "print(R2)"
   ]
  },
  {
   "cell_type": "code",
   "execution_count": null,
   "id": "47d4eb4b",
   "metadata": {
    "scrolled": true
   },
   "outputs": [],
   "source": []
  }
 ],
 "metadata": {
  "kernelspec": {
   "display_name": "Python 3 (ipykernel)",
   "language": "python",
   "name": "python3"
  },
  "language_info": {
   "codemirror_mode": {
    "name": "ipython",
    "version": 3
   },
   "file_extension": ".py",
   "mimetype": "text/x-python",
   "name": "python",
   "nbconvert_exporter": "python",
   "pygments_lexer": "ipython3",
   "version": "3.11.2"
  }
 },
 "nbformat": 4,
 "nbformat_minor": 5
}
